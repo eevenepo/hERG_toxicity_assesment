{
  "nbformat": 4,
  "nbformat_minor": 0,
  "metadata": {
    "colab": {
      "provenance": [],
      "collapsed_sections": [
        "xijwLCjQ7u1-",
        "EMwr0yHBEHn7"
      ]
    },
    "kernelspec": {
      "name": "python3",
      "display_name": "Python 3"
    },
    "language_info": {
      "name": "python"
    }
  },
  "cells": [
    {
      "cell_type": "code",
      "source": [
        "!pip install padelpy\n",
        "!pip install RDKit"
      ],
      "metadata": {
        "id": "GAEhyTMiQow9"
      },
      "execution_count": null,
      "outputs": []
    },
    {
      "cell_type": "code",
      "execution_count": 2,
      "metadata": {
        "id": "WR9YToLf4U93"
      },
      "outputs": [],
      "source": [
        "# General libraries\n",
        "import pandas as pd\n",
        "import numpy as np\n",
        "import matplotlib.pyplot as plt\n",
        "import time, datetime\n",
        "import statistics\n",
        "from statsmodels.stats.outliers_influence import variance_inflation_factor\n",
        "from statsmodels.tools.tools import add_constant\n",
        "\n",
        "# PaDEL\n",
        "from padelpy import from_smiles\n",
        "\n",
        "# RDKit\n",
        "from rdkit import Chem\n",
        "from rdkit.Chem import rdMolDescriptors\n",
        "\n",
        "# Sklearn\n",
        "from sklearn import metrics, neighbors, linear_model\n",
        "from sklearn.preprocessing import scale\n",
        "from sklearn.model_selection import train_test_split, KFold, StratifiedKFold\n",
        "from sklearn.linear_model import LogisticRegression\n",
        "from sklearn.tree import DecisionTreeClassifier\n",
        "from sklearn.svm import SVC, LinearSVC"
      ]
    },
    {
      "cell_type": "markdown",
      "source": [
        "# Project 2: Predicting drug toxicity using molecular structure\n",
        "\n",
        "Drug development is extremely resource-intensive; taking all (pre) clinical steps into account, it may take upwards of 10-15 years before a compound is approved for clinical use, costing pharmaceutical companies billions in the process (Paul, Mytelka, Dunwiddie *et al*, 2010). Adding the fact that the vast majority of candidate drugs never reaches the market, the need for early molecular toxicity screening becomes abundantly clear.\n",
        "\n",
        "Though molecular toxicty may act through a number of differen pathways/receptors, *in silico* screening often focuses on the human Ether-à-go-go-Related Gene, which plays a critical role in cardiovascular activity (Garrido *et al.*, 2020). Inhibition may lead to fatal types of cardiac arrhythmias, necessitating the detection of such harmful compounds at an early stage to avoid wasting valuable time and resources.\n",
        "\n",
        "We attempted to design and implement an effective pipeline to screen the hERG toxicity of a compound based on its molecular structure. In this report we aim to discuss our findings, as a means of supporting future research.\n",
        "\n",
        "\n"
      ],
      "metadata": {
        "id": "xTqWvubn5f3n"
      }
    },
    {
      "cell_type": "markdown",
      "source": [
        "## Data\n",
        "\n",
        "Training data consisted of ~214 000 molecules in SMILES format, and their associated hERG toxicity as a binary outcome. No other features were provided."
      ],
      "metadata": {
        "id": "k9kaugcBNnR9"
      }
    },
    {
      "cell_type": "code",
      "source": [
        "# Load data from GitHub\n",
        "smiles_data = pd.read_csv(\"https://raw.githubusercontent.com/eevenepo/hERG_toxicity_assesment/main/train_data.csv\")\n",
        "del smiles_data['Unnamed: 0']\n",
        "\n",
        "# Inspect data\n",
        "print(f'Database size: {len(smiles_data.index)} molecules')\n",
        "\n",
        "smiles_data.head()"
      ],
      "metadata": {
        "colab": {
          "base_uri": "https://localhost:8080/",
          "height": 223
        },
        "id": "nngH_6lENVmQ",
        "outputId": "d5256bd8-7df5-440d-9491-d42287c4bf8c"
      },
      "execution_count": 3,
      "outputs": [
        {
          "output_type": "stream",
          "name": "stdout",
          "text": [
            "Database size: 214825 molecules\n"
          ]
        },
        {
          "output_type": "execute_result",
          "data": {
            "text/plain": [
              "                                        Drug  Y\n",
              "0       COc1cccc(CNC(=O)c2ccc(C3SCCS3)cc2)c1  0\n",
              "1    COc1cccc(/C=N/NC(=O)CSc2cccc3cccnc23)c1  0\n",
              "2     O=C(CSc1cccc2cccnc12)N/N=C/c1ccc(F)cc1  0\n",
              "3  CCOc1cc(/C=N/NC(=O)CSc2cccc3cccnc23)ccc1O  0\n",
              "4     O=C(CSc1cccc2cccnc12)N/N=C/c1cccc(O)c1  0"
            ],
            "text/html": [
              "\n",
              "  <div id=\"df-f43e84d4-1b99-4ca7-aadd-18555cc6ad2d\">\n",
              "    <div class=\"colab-df-container\">\n",
              "      <div>\n",
              "<style scoped>\n",
              "    .dataframe tbody tr th:only-of-type {\n",
              "        vertical-align: middle;\n",
              "    }\n",
              "\n",
              "    .dataframe tbody tr th {\n",
              "        vertical-align: top;\n",
              "    }\n",
              "\n",
              "    .dataframe thead th {\n",
              "        text-align: right;\n",
              "    }\n",
              "</style>\n",
              "<table border=\"1\" class=\"dataframe\">\n",
              "  <thead>\n",
              "    <tr style=\"text-align: right;\">\n",
              "      <th></th>\n",
              "      <th>Drug</th>\n",
              "      <th>Y</th>\n",
              "    </tr>\n",
              "  </thead>\n",
              "  <tbody>\n",
              "    <tr>\n",
              "      <th>0</th>\n",
              "      <td>COc1cccc(CNC(=O)c2ccc(C3SCCS3)cc2)c1</td>\n",
              "      <td>0</td>\n",
              "    </tr>\n",
              "    <tr>\n",
              "      <th>1</th>\n",
              "      <td>COc1cccc(/C=N/NC(=O)CSc2cccc3cccnc23)c1</td>\n",
              "      <td>0</td>\n",
              "    </tr>\n",
              "    <tr>\n",
              "      <th>2</th>\n",
              "      <td>O=C(CSc1cccc2cccnc12)N/N=C/c1ccc(F)cc1</td>\n",
              "      <td>0</td>\n",
              "    </tr>\n",
              "    <tr>\n",
              "      <th>3</th>\n",
              "      <td>CCOc1cc(/C=N/NC(=O)CSc2cccc3cccnc23)ccc1O</td>\n",
              "      <td>0</td>\n",
              "    </tr>\n",
              "    <tr>\n",
              "      <th>4</th>\n",
              "      <td>O=C(CSc1cccc2cccnc12)N/N=C/c1cccc(O)c1</td>\n",
              "      <td>0</td>\n",
              "    </tr>\n",
              "  </tbody>\n",
              "</table>\n",
              "</div>\n",
              "      <button class=\"colab-df-convert\" onclick=\"convertToInteractive('df-f43e84d4-1b99-4ca7-aadd-18555cc6ad2d')\"\n",
              "              title=\"Convert this dataframe to an interactive table.\"\n",
              "              style=\"display:none;\">\n",
              "        \n",
              "  <svg xmlns=\"http://www.w3.org/2000/svg\" height=\"24px\"viewBox=\"0 0 24 24\"\n",
              "       width=\"24px\">\n",
              "    <path d=\"M0 0h24v24H0V0z\" fill=\"none\"/>\n",
              "    <path d=\"M18.56 5.44l.94 2.06.94-2.06 2.06-.94-2.06-.94-.94-2.06-.94 2.06-2.06.94zm-11 1L8.5 8.5l.94-2.06 2.06-.94-2.06-.94L8.5 2.5l-.94 2.06-2.06.94zm10 10l.94 2.06.94-2.06 2.06-.94-2.06-.94-.94-2.06-.94 2.06-2.06.94z\"/><path d=\"M17.41 7.96l-1.37-1.37c-.4-.4-.92-.59-1.43-.59-.52 0-1.04.2-1.43.59L10.3 9.45l-7.72 7.72c-.78.78-.78 2.05 0 2.83L4 21.41c.39.39.9.59 1.41.59.51 0 1.02-.2 1.41-.59l7.78-7.78 2.81-2.81c.8-.78.8-2.07 0-2.86zM5.41 20L4 18.59l7.72-7.72 1.47 1.35L5.41 20z\"/>\n",
              "  </svg>\n",
              "      </button>\n",
              "      \n",
              "  <style>\n",
              "    .colab-df-container {\n",
              "      display:flex;\n",
              "      flex-wrap:wrap;\n",
              "      gap: 12px;\n",
              "    }\n",
              "\n",
              "    .colab-df-convert {\n",
              "      background-color: #E8F0FE;\n",
              "      border: none;\n",
              "      border-radius: 50%;\n",
              "      cursor: pointer;\n",
              "      display: none;\n",
              "      fill: #1967D2;\n",
              "      height: 32px;\n",
              "      padding: 0 0 0 0;\n",
              "      width: 32px;\n",
              "    }\n",
              "\n",
              "    .colab-df-convert:hover {\n",
              "      background-color: #E2EBFA;\n",
              "      box-shadow: 0px 1px 2px rgba(60, 64, 67, 0.3), 0px 1px 3px 1px rgba(60, 64, 67, 0.15);\n",
              "      fill: #174EA6;\n",
              "    }\n",
              "\n",
              "    [theme=dark] .colab-df-convert {\n",
              "      background-color: #3B4455;\n",
              "      fill: #D2E3FC;\n",
              "    }\n",
              "\n",
              "    [theme=dark] .colab-df-convert:hover {\n",
              "      background-color: #434B5C;\n",
              "      box-shadow: 0px 1px 3px 1px rgba(0, 0, 0, 0.15);\n",
              "      filter: drop-shadow(0px 1px 2px rgba(0, 0, 0, 0.3));\n",
              "      fill: #FFFFFF;\n",
              "    }\n",
              "  </style>\n",
              "\n",
              "      <script>\n",
              "        const buttonEl =\n",
              "          document.querySelector('#df-f43e84d4-1b99-4ca7-aadd-18555cc6ad2d button.colab-df-convert');\n",
              "        buttonEl.style.display =\n",
              "          google.colab.kernel.accessAllowed ? 'block' : 'none';\n",
              "\n",
              "        async function convertToInteractive(key) {\n",
              "          const element = document.querySelector('#df-f43e84d4-1b99-4ca7-aadd-18555cc6ad2d');\n",
              "          const dataTable =\n",
              "            await google.colab.kernel.invokeFunction('convertToInteractive',\n",
              "                                                     [key], {});\n",
              "          if (!dataTable) return;\n",
              "\n",
              "          const docLinkHtml = 'Like what you see? Visit the ' +\n",
              "            '<a target=\"_blank\" href=https://colab.research.google.com/notebooks/data_table.ipynb>data table notebook</a>'\n",
              "            + ' to learn more about interactive tables.';\n",
              "          element.innerHTML = '';\n",
              "          dataTable['output_type'] = 'display_data';\n",
              "          await google.colab.output.renderOutput(dataTable, element);\n",
              "          const docLink = document.createElement('div');\n",
              "          docLink.innerHTML = docLinkHtml;\n",
              "          element.appendChild(docLink);\n",
              "        }\n",
              "      </script>\n",
              "    </div>\n",
              "  </div>\n",
              "  "
            ]
          },
          "metadata": {},
          "execution_count": 3
        }
      ]
    },
    {
      "cell_type": "markdown",
      "source": [
        "## Feature extraction\n",
        "\n",
        "High-performance predictive models rely on quality features to optimize their predictive power. Thus, determining which molecular features are the most relevant for hERG toxicity is an integral part of designing an efficient drug screening tool.\n",
        "\n",
        "An important tradeoff must be made between the number of features and the computational cost required to extract them. In addition, algorithm training times can become prohibitively long when working with high dimensional data. Lack of access to a more performant computer required some degree of pragmatism.\n",
        "\n",
        "We implemented two approaches to feature extraction.\n",
        "\n",
        "  1. **PaDEL-descriptor**:\n",
        "    \n",
        "*   Industry standard \n",
        "*   Automatic feature selection\n",
        "*   Large featureset (1875 descriptors)\n",
        "*   Computationally expensive\n",
        "\n",
        "\n",
        "2. **RDKit**:\n",
        "* Pragmatic approach\n",
        "* Manual feature selection\n",
        "* Small featureset (~50 --> 10 descriptors)\n",
        "* Fast\n",
        "\n",
        "We briefly elaborate on these methods."
      ],
      "metadata": {
        "id": "n-XyGhG8NI18"
      }
    },
    {
      "cell_type": "markdown",
      "source": [
        "### PaDEL-descriptor\n",
        "\n",
        "\n",
        "PaDEL-descriptor is a program used to extract molecular descriptors from various chemical formats, including SMILES (Yap, 2011). It has been cited over 1,400 times in various cheminformatics papers, and is available in Python through [padelpy](https://github.com/ecrl/padelpy). In our project, PaDEL's strength proved to also be its biggest weakness; due to the high amount of descriptors (1875), significant runtime is required to perform feature extraction on large molecular datasets."
      ],
      "metadata": {
        "id": "q1Ak3jBxPrkM"
      }
    },
    {
      "cell_type": "code",
      "source": [
        "# Take a small subset \n",
        "example_drugs = list(smiles_data['Drug'][:5])\n",
        "\n",
        "# Calculate PaDEL descriptors\n",
        "times, total_time = [], 0\n",
        "print('PaDEL runtime (seconds):')\n",
        "for i, drug in enumerate(example_drugs):\n",
        "\n",
        "  # Start\n",
        "  start = time.time()\n",
        "\n",
        "  # Calculate features\n",
        "  features = from_smiles(drug)\n",
        "\n",
        "  # Stop\n",
        "  stop = time.time()\n",
        "\n",
        "  # Time\n",
        "  t = stop - start\n",
        "  times.append(t)\n",
        "  total_time += t\n",
        "\n",
        "  # Output\n",
        "  print(f'{i+1} molecules: {total_time:.3}')\n",
        "\n",
        "# Estimate runtime for complete dataset\n",
        "total_time = datetime.timedelta(seconds = statistics.mean(times) * len(smiles_data))\n",
        "print(f'Total estimated runtime: {total_time}')"
      ],
      "metadata": {
        "id": "r-2aZbOE50sv",
        "colab": {
          "base_uri": "https://localhost:8080/"
        },
        "outputId": "3108f42b-0552-4637-e47b-228b75ceb404"
      },
      "execution_count": 4,
      "outputs": [
        {
          "output_type": "stream",
          "name": "stdout",
          "text": [
            "PaDEL runtime (seconds):\n",
            "1 molecules: 15.0\n",
            "2 molecules: 33.1\n",
            "3 molecules: 45.1\n",
            "4 molecules: 58.2\n",
            "5 molecules: 70.2\n",
            "Total estimated runtime: 34 days, 22:10:38.557976\n"
          ]
        }
      ]
    },
    {
      "cell_type": "markdown",
      "source": [
        "Though such methods undoubtedly provide the most information, we deemed it to be unfeasible, opting instead for a more pragmatic approach. \n",
        "\n",
        "### RDkit\n",
        "\n",
        "Models trained on smaller feature sets may still perform at acceptable levels, given that the selected features exhibit sufficient correlation with the variable we wish to predict (hERG toxicity).\n",
        "\n",
        "We generated a number of features using [RDKit](https://www.rdkit.org/docs/index.html), an open source cheminformatics library. Functions were selected based on SMILES compatibility and output format.\n",
        "\n"
      ],
      "metadata": {
        "id": "nlnamZVvTOxb"
      }
    },
    {
      "cell_type": "code",
      "source": [
        "#Load SMILES molecules into RDKit objects \n",
        "smiles_data['Drug_rdkit'] = [Chem.MolFromSmiles(drug) for drug in smiles_data['Drug']]\n",
        "\n",
        "# Feature list\n",
        "descriptors = ['CalcChi0n', 'CalcChi0v', 'CalcChi1n', 'CalcChi1v', 'CalcChi2n', 'CalcChi2v', 'CalcChi3n', 'CalcChi3v', 'CalcChi4n', 'CalcChi4v', 'CalcExactMolWt', 'CalcFractionCSP3', 'CalcHallKierAlpha', 'CalcKappa1', 'CalcKappa2', 'CalcKappa3', 'CalcLabuteASA', 'CalcNumAliphaticCarbocycles', 'CalcNumAliphaticHeterocycles', 'CalcNumAliphaticRings', 'CalcNumAmideBonds', 'CalcNumAromaticCarbocycles', 'CalcNumAromaticHeterocycles', 'CalcNumAromaticRings', 'CalcNumAtomStereoCenters', 'CalcNumAtoms', 'CalcNumBridgeheadAtoms', 'CalcNumHBA', 'CalcNumHBD', 'CalcNumHeavyAtoms', 'CalcNumHeteroatoms', 'CalcNumHeterocycles', 'CalcNumLipinskiHBA', 'CalcNumLipinskiHBD', 'CalcNumRings', 'CalcNumRotatableBonds', 'CalcNumSaturatedCarbocycles', 'CalcNumSaturatedHeterocycles', 'CalcNumSaturatedRings', 'CalcNumSpiroAtoms', 'CalcNumUnspecifiedAtomStereoCenters', 'CalcPhi', 'CalcTPSA', '_CalcMolWt']\n",
        "\n",
        "# Initialize new df to store features\n",
        "features_df = pd.DataFrame()\n",
        "\n",
        "# Calculate\n",
        "for d in descriptors:\n",
        "  feature = getattr(rdMolDescriptors, d)\n",
        "  features_df[d] = [feature(x) for x in smiles_data['Drug_rdkit']]\n",
        "\n",
        "# Check data\n",
        "features_df.head()\n"
      ],
      "metadata": {
        "colab": {
          "base_uri": "https://localhost:8080/",
          "height": 299
        },
        "id": "ZU71EPaVUUjc",
        "outputId": "68cec934-7470-4853-e038-1fe945ff4a8a"
      },
      "execution_count": 5,
      "outputs": [
        {
          "output_type": "execute_result",
          "data": {
            "text/plain": [
              "   CalcChi0n  CalcChi0v  CalcChi1n  CalcChi1v  CalcChi2n  CalcChi2v  \\\n",
              "0  12.950466  14.583459   7.503768   9.601277   5.229724   7.954092   \n",
              "1  13.677132  14.493628   7.685862   8.671460   5.189738   6.206915   \n",
              "2  12.646848  13.463345   7.262472   8.248070   4.964675   5.981852   \n",
              "3  14.754102  15.570598   8.413669   9.399267   5.573299   6.590475   \n",
              "4  12.716097  13.532594   7.297096   8.282695   5.008110   6.025287   \n",
              "\n",
              "   CalcChi3n  CalcChi3v  CalcChi4n  CalcChi4v  ...  CalcNumRings  \\\n",
              "0   3.654042   6.758439   2.409318   5.268691  ...             3   \n",
              "1   3.451129   4.498091   2.268894   3.102107  ...             3   \n",
              "2   3.227340   4.274302   2.095918   2.929131  ...             3   \n",
              "3   3.641040   4.688002   2.429204   3.262417  ...             3   \n",
              "4   3.227545   4.274507   2.152171   2.985383  ...             3   \n",
              "\n",
              "   CalcNumRotatableBonds  CalcNumSaturatedCarbocycles  \\\n",
              "0                      5                            0   \n",
              "1                      6                            0   \n",
              "2                      5                            0   \n",
              "3                      7                            0   \n",
              "4                      5                            0   \n",
              "\n",
              "   CalcNumSaturatedHeterocycles  CalcNumSaturatedRings  CalcNumSpiroAtoms  \\\n",
              "0                             1                      1                  0   \n",
              "1                             0                      0                  0   \n",
              "2                             0                      0                  0   \n",
              "3                             0                      0                  0   \n",
              "4                             0                      0                  0   \n",
              "\n",
              "   CalcNumUnspecifiedAtomStereoCenters   CalcPhi  CalcTPSA  _CalcMolWt  \n",
              "0                                    0  5.514806     38.33     345.489  \n",
              "1                                    0  5.637742     63.58     351.431  \n",
              "2                                    0  5.176454     54.35     339.395  \n",
              "3                                    0  6.272319     83.81     381.457  \n",
              "4                                    0  5.076824     74.58     337.404  \n",
              "\n",
              "[5 rows x 44 columns]"
            ],
            "text/html": [
              "\n",
              "  <div id=\"df-3ddde816-9302-46eb-8be8-d019025d738b\">\n",
              "    <div class=\"colab-df-container\">\n",
              "      <div>\n",
              "<style scoped>\n",
              "    .dataframe tbody tr th:only-of-type {\n",
              "        vertical-align: middle;\n",
              "    }\n",
              "\n",
              "    .dataframe tbody tr th {\n",
              "        vertical-align: top;\n",
              "    }\n",
              "\n",
              "    .dataframe thead th {\n",
              "        text-align: right;\n",
              "    }\n",
              "</style>\n",
              "<table border=\"1\" class=\"dataframe\">\n",
              "  <thead>\n",
              "    <tr style=\"text-align: right;\">\n",
              "      <th></th>\n",
              "      <th>CalcChi0n</th>\n",
              "      <th>CalcChi0v</th>\n",
              "      <th>CalcChi1n</th>\n",
              "      <th>CalcChi1v</th>\n",
              "      <th>CalcChi2n</th>\n",
              "      <th>CalcChi2v</th>\n",
              "      <th>CalcChi3n</th>\n",
              "      <th>CalcChi3v</th>\n",
              "      <th>CalcChi4n</th>\n",
              "      <th>CalcChi4v</th>\n",
              "      <th>...</th>\n",
              "      <th>CalcNumRings</th>\n",
              "      <th>CalcNumRotatableBonds</th>\n",
              "      <th>CalcNumSaturatedCarbocycles</th>\n",
              "      <th>CalcNumSaturatedHeterocycles</th>\n",
              "      <th>CalcNumSaturatedRings</th>\n",
              "      <th>CalcNumSpiroAtoms</th>\n",
              "      <th>CalcNumUnspecifiedAtomStereoCenters</th>\n",
              "      <th>CalcPhi</th>\n",
              "      <th>CalcTPSA</th>\n",
              "      <th>_CalcMolWt</th>\n",
              "    </tr>\n",
              "  </thead>\n",
              "  <tbody>\n",
              "    <tr>\n",
              "      <th>0</th>\n",
              "      <td>12.950466</td>\n",
              "      <td>14.583459</td>\n",
              "      <td>7.503768</td>\n",
              "      <td>9.601277</td>\n",
              "      <td>5.229724</td>\n",
              "      <td>7.954092</td>\n",
              "      <td>3.654042</td>\n",
              "      <td>6.758439</td>\n",
              "      <td>2.409318</td>\n",
              "      <td>5.268691</td>\n",
              "      <td>...</td>\n",
              "      <td>3</td>\n",
              "      <td>5</td>\n",
              "      <td>0</td>\n",
              "      <td>1</td>\n",
              "      <td>1</td>\n",
              "      <td>0</td>\n",
              "      <td>0</td>\n",
              "      <td>5.514806</td>\n",
              "      <td>38.33</td>\n",
              "      <td>345.489</td>\n",
              "    </tr>\n",
              "    <tr>\n",
              "      <th>1</th>\n",
              "      <td>13.677132</td>\n",
              "      <td>14.493628</td>\n",
              "      <td>7.685862</td>\n",
              "      <td>8.671460</td>\n",
              "      <td>5.189738</td>\n",
              "      <td>6.206915</td>\n",
              "      <td>3.451129</td>\n",
              "      <td>4.498091</td>\n",
              "      <td>2.268894</td>\n",
              "      <td>3.102107</td>\n",
              "      <td>...</td>\n",
              "      <td>3</td>\n",
              "      <td>6</td>\n",
              "      <td>0</td>\n",
              "      <td>0</td>\n",
              "      <td>0</td>\n",
              "      <td>0</td>\n",
              "      <td>0</td>\n",
              "      <td>5.637742</td>\n",
              "      <td>63.58</td>\n",
              "      <td>351.431</td>\n",
              "    </tr>\n",
              "    <tr>\n",
              "      <th>2</th>\n",
              "      <td>12.646848</td>\n",
              "      <td>13.463345</td>\n",
              "      <td>7.262472</td>\n",
              "      <td>8.248070</td>\n",
              "      <td>4.964675</td>\n",
              "      <td>5.981852</td>\n",
              "      <td>3.227340</td>\n",
              "      <td>4.274302</td>\n",
              "      <td>2.095918</td>\n",
              "      <td>2.929131</td>\n",
              "      <td>...</td>\n",
              "      <td>3</td>\n",
              "      <td>5</td>\n",
              "      <td>0</td>\n",
              "      <td>0</td>\n",
              "      <td>0</td>\n",
              "      <td>0</td>\n",
              "      <td>0</td>\n",
              "      <td>5.176454</td>\n",
              "      <td>54.35</td>\n",
              "      <td>339.395</td>\n",
              "    </tr>\n",
              "    <tr>\n",
              "      <th>3</th>\n",
              "      <td>14.754102</td>\n",
              "      <td>15.570598</td>\n",
              "      <td>8.413669</td>\n",
              "      <td>9.399267</td>\n",
              "      <td>5.573299</td>\n",
              "      <td>6.590475</td>\n",
              "      <td>3.641040</td>\n",
              "      <td>4.688002</td>\n",
              "      <td>2.429204</td>\n",
              "      <td>3.262417</td>\n",
              "      <td>...</td>\n",
              "      <td>3</td>\n",
              "      <td>7</td>\n",
              "      <td>0</td>\n",
              "      <td>0</td>\n",
              "      <td>0</td>\n",
              "      <td>0</td>\n",
              "      <td>0</td>\n",
              "      <td>6.272319</td>\n",
              "      <td>83.81</td>\n",
              "      <td>381.457</td>\n",
              "    </tr>\n",
              "    <tr>\n",
              "      <th>4</th>\n",
              "      <td>12.716097</td>\n",
              "      <td>13.532594</td>\n",
              "      <td>7.297096</td>\n",
              "      <td>8.282695</td>\n",
              "      <td>5.008110</td>\n",
              "      <td>6.025287</td>\n",
              "      <td>3.227545</td>\n",
              "      <td>4.274507</td>\n",
              "      <td>2.152171</td>\n",
              "      <td>2.985383</td>\n",
              "      <td>...</td>\n",
              "      <td>3</td>\n",
              "      <td>5</td>\n",
              "      <td>0</td>\n",
              "      <td>0</td>\n",
              "      <td>0</td>\n",
              "      <td>0</td>\n",
              "      <td>0</td>\n",
              "      <td>5.076824</td>\n",
              "      <td>74.58</td>\n",
              "      <td>337.404</td>\n",
              "    </tr>\n",
              "  </tbody>\n",
              "</table>\n",
              "<p>5 rows × 44 columns</p>\n",
              "</div>\n",
              "      <button class=\"colab-df-convert\" onclick=\"convertToInteractive('df-3ddde816-9302-46eb-8be8-d019025d738b')\"\n",
              "              title=\"Convert this dataframe to an interactive table.\"\n",
              "              style=\"display:none;\">\n",
              "        \n",
              "  <svg xmlns=\"http://www.w3.org/2000/svg\" height=\"24px\"viewBox=\"0 0 24 24\"\n",
              "       width=\"24px\">\n",
              "    <path d=\"M0 0h24v24H0V0z\" fill=\"none\"/>\n",
              "    <path d=\"M18.56 5.44l.94 2.06.94-2.06 2.06-.94-2.06-.94-.94-2.06-.94 2.06-2.06.94zm-11 1L8.5 8.5l.94-2.06 2.06-.94-2.06-.94L8.5 2.5l-.94 2.06-2.06.94zm10 10l.94 2.06.94-2.06 2.06-.94-2.06-.94-.94-2.06-.94 2.06-2.06.94z\"/><path d=\"M17.41 7.96l-1.37-1.37c-.4-.4-.92-.59-1.43-.59-.52 0-1.04.2-1.43.59L10.3 9.45l-7.72 7.72c-.78.78-.78 2.05 0 2.83L4 21.41c.39.39.9.59 1.41.59.51 0 1.02-.2 1.41-.59l7.78-7.78 2.81-2.81c.8-.78.8-2.07 0-2.86zM5.41 20L4 18.59l7.72-7.72 1.47 1.35L5.41 20z\"/>\n",
              "  </svg>\n",
              "      </button>\n",
              "      \n",
              "  <style>\n",
              "    .colab-df-container {\n",
              "      display:flex;\n",
              "      flex-wrap:wrap;\n",
              "      gap: 12px;\n",
              "    }\n",
              "\n",
              "    .colab-df-convert {\n",
              "      background-color: #E8F0FE;\n",
              "      border: none;\n",
              "      border-radius: 50%;\n",
              "      cursor: pointer;\n",
              "      display: none;\n",
              "      fill: #1967D2;\n",
              "      height: 32px;\n",
              "      padding: 0 0 0 0;\n",
              "      width: 32px;\n",
              "    }\n",
              "\n",
              "    .colab-df-convert:hover {\n",
              "      background-color: #E2EBFA;\n",
              "      box-shadow: 0px 1px 2px rgba(60, 64, 67, 0.3), 0px 1px 3px 1px rgba(60, 64, 67, 0.15);\n",
              "      fill: #174EA6;\n",
              "    }\n",
              "\n",
              "    [theme=dark] .colab-df-convert {\n",
              "      background-color: #3B4455;\n",
              "      fill: #D2E3FC;\n",
              "    }\n",
              "\n",
              "    [theme=dark] .colab-df-convert:hover {\n",
              "      background-color: #434B5C;\n",
              "      box-shadow: 0px 1px 3px 1px rgba(0, 0, 0, 0.15);\n",
              "      filter: drop-shadow(0px 1px 2px rgba(0, 0, 0, 0.3));\n",
              "      fill: #FFFFFF;\n",
              "    }\n",
              "  </style>\n",
              "\n",
              "      <script>\n",
              "        const buttonEl =\n",
              "          document.querySelector('#df-3ddde816-9302-46eb-8be8-d019025d738b button.colab-df-convert');\n",
              "        buttonEl.style.display =\n",
              "          google.colab.kernel.accessAllowed ? 'block' : 'none';\n",
              "\n",
              "        async function convertToInteractive(key) {\n",
              "          const element = document.querySelector('#df-3ddde816-9302-46eb-8be8-d019025d738b');\n",
              "          const dataTable =\n",
              "            await google.colab.kernel.invokeFunction('convertToInteractive',\n",
              "                                                     [key], {});\n",
              "          if (!dataTable) return;\n",
              "\n",
              "          const docLinkHtml = 'Like what you see? Visit the ' +\n",
              "            '<a target=\"_blank\" href=https://colab.research.google.com/notebooks/data_table.ipynb>data table notebook</a>'\n",
              "            + ' to learn more about interactive tables.';\n",
              "          element.innerHTML = '';\n",
              "          dataTable['output_type'] = 'display_data';\n",
              "          await google.colab.output.renderOutput(dataTable, element);\n",
              "          const docLink = document.createElement('div');\n",
              "          docLink.innerHTML = docLinkHtml;\n",
              "          element.appendChild(docLink);\n",
              "        }\n",
              "      </script>\n",
              "    </div>\n",
              "  </div>\n",
              "  "
            ]
          },
          "metadata": {},
          "execution_count": 5
        }
      ]
    },
    {
      "cell_type": "markdown",
      "source": [
        "Calculated features were ranked by correlation to hERG toxicity, and further selected by removing features exhibiting excessive multicollinearity."
      ],
      "metadata": {
        "id": "ucrzBPtpbdxj"
      }
    },
    {
      "cell_type": "code",
      "source": [
        "# Calculate correlations with Y\n",
        "correlations_df = pd.DataFrame(columns = ['Feature', 'Correlation to Y'])\n",
        "for i in features_df:\n",
        "    corr = smiles_data['Y'].corr(features_df[i])\n",
        "    correlations_df.loc[len(correlations_df)] = i, abs(corr)\n",
        "\n",
        "# Sort descending\n",
        "correlations_df.sort_values(by = 'Correlation to Y', ascending = False).head()"
      ],
      "metadata": {
        "colab": {
          "base_uri": "https://localhost:8080/",
          "height": 206
        },
        "id": "h8xKjB13b7Oh",
        "outputId": "110039aa-af14-427b-945f-b461c9a813d4"
      },
      "execution_count": 6,
      "outputs": [
        {
          "output_type": "execute_result",
          "data": {
            "text/plain": [
              "         Feature  Correlation to Y\n",
              "2      CalcChi1n          0.151342\n",
              "25  CalcNumAtoms          0.150411\n",
              "6      CalcChi3n          0.148493\n",
              "4      CalcChi2n          0.142725\n",
              "14    CalcKappa2          0.138862"
            ],
            "text/html": [
              "\n",
              "  <div id=\"df-f2582698-f921-4a9f-b546-07cc02c2ea05\">\n",
              "    <div class=\"colab-df-container\">\n",
              "      <div>\n",
              "<style scoped>\n",
              "    .dataframe tbody tr th:only-of-type {\n",
              "        vertical-align: middle;\n",
              "    }\n",
              "\n",
              "    .dataframe tbody tr th {\n",
              "        vertical-align: top;\n",
              "    }\n",
              "\n",
              "    .dataframe thead th {\n",
              "        text-align: right;\n",
              "    }\n",
              "</style>\n",
              "<table border=\"1\" class=\"dataframe\">\n",
              "  <thead>\n",
              "    <tr style=\"text-align: right;\">\n",
              "      <th></th>\n",
              "      <th>Feature</th>\n",
              "      <th>Correlation to Y</th>\n",
              "    </tr>\n",
              "  </thead>\n",
              "  <tbody>\n",
              "    <tr>\n",
              "      <th>2</th>\n",
              "      <td>CalcChi1n</td>\n",
              "      <td>0.151342</td>\n",
              "    </tr>\n",
              "    <tr>\n",
              "      <th>25</th>\n",
              "      <td>CalcNumAtoms</td>\n",
              "      <td>0.150411</td>\n",
              "    </tr>\n",
              "    <tr>\n",
              "      <th>6</th>\n",
              "      <td>CalcChi3n</td>\n",
              "      <td>0.148493</td>\n",
              "    </tr>\n",
              "    <tr>\n",
              "      <th>4</th>\n",
              "      <td>CalcChi2n</td>\n",
              "      <td>0.142725</td>\n",
              "    </tr>\n",
              "    <tr>\n",
              "      <th>14</th>\n",
              "      <td>CalcKappa2</td>\n",
              "      <td>0.138862</td>\n",
              "    </tr>\n",
              "  </tbody>\n",
              "</table>\n",
              "</div>\n",
              "      <button class=\"colab-df-convert\" onclick=\"convertToInteractive('df-f2582698-f921-4a9f-b546-07cc02c2ea05')\"\n",
              "              title=\"Convert this dataframe to an interactive table.\"\n",
              "              style=\"display:none;\">\n",
              "        \n",
              "  <svg xmlns=\"http://www.w3.org/2000/svg\" height=\"24px\"viewBox=\"0 0 24 24\"\n",
              "       width=\"24px\">\n",
              "    <path d=\"M0 0h24v24H0V0z\" fill=\"none\"/>\n",
              "    <path d=\"M18.56 5.44l.94 2.06.94-2.06 2.06-.94-2.06-.94-.94-2.06-.94 2.06-2.06.94zm-11 1L8.5 8.5l.94-2.06 2.06-.94-2.06-.94L8.5 2.5l-.94 2.06-2.06.94zm10 10l.94 2.06.94-2.06 2.06-.94-2.06-.94-.94-2.06-.94 2.06-2.06.94z\"/><path d=\"M17.41 7.96l-1.37-1.37c-.4-.4-.92-.59-1.43-.59-.52 0-1.04.2-1.43.59L10.3 9.45l-7.72 7.72c-.78.78-.78 2.05 0 2.83L4 21.41c.39.39.9.59 1.41.59.51 0 1.02-.2 1.41-.59l7.78-7.78 2.81-2.81c.8-.78.8-2.07 0-2.86zM5.41 20L4 18.59l7.72-7.72 1.47 1.35L5.41 20z\"/>\n",
              "  </svg>\n",
              "      </button>\n",
              "      \n",
              "  <style>\n",
              "    .colab-df-container {\n",
              "      display:flex;\n",
              "      flex-wrap:wrap;\n",
              "      gap: 12px;\n",
              "    }\n",
              "\n",
              "    .colab-df-convert {\n",
              "      background-color: #E8F0FE;\n",
              "      border: none;\n",
              "      border-radius: 50%;\n",
              "      cursor: pointer;\n",
              "      display: none;\n",
              "      fill: #1967D2;\n",
              "      height: 32px;\n",
              "      padding: 0 0 0 0;\n",
              "      width: 32px;\n",
              "    }\n",
              "\n",
              "    .colab-df-convert:hover {\n",
              "      background-color: #E2EBFA;\n",
              "      box-shadow: 0px 1px 2px rgba(60, 64, 67, 0.3), 0px 1px 3px 1px rgba(60, 64, 67, 0.15);\n",
              "      fill: #174EA6;\n",
              "    }\n",
              "\n",
              "    [theme=dark] .colab-df-convert {\n",
              "      background-color: #3B4455;\n",
              "      fill: #D2E3FC;\n",
              "    }\n",
              "\n",
              "    [theme=dark] .colab-df-convert:hover {\n",
              "      background-color: #434B5C;\n",
              "      box-shadow: 0px 1px 3px 1px rgba(0, 0, 0, 0.15);\n",
              "      filter: drop-shadow(0px 1px 2px rgba(0, 0, 0, 0.3));\n",
              "      fill: #FFFFFF;\n",
              "    }\n",
              "  </style>\n",
              "\n",
              "      <script>\n",
              "        const buttonEl =\n",
              "          document.querySelector('#df-f2582698-f921-4a9f-b546-07cc02c2ea05 button.colab-df-convert');\n",
              "        buttonEl.style.display =\n",
              "          google.colab.kernel.accessAllowed ? 'block' : 'none';\n",
              "\n",
              "        async function convertToInteractive(key) {\n",
              "          const element = document.querySelector('#df-f2582698-f921-4a9f-b546-07cc02c2ea05');\n",
              "          const dataTable =\n",
              "            await google.colab.kernel.invokeFunction('convertToInteractive',\n",
              "                                                     [key], {});\n",
              "          if (!dataTable) return;\n",
              "\n",
              "          const docLinkHtml = 'Like what you see? Visit the ' +\n",
              "            '<a target=\"_blank\" href=https://colab.research.google.com/notebooks/data_table.ipynb>data table notebook</a>'\n",
              "            + ' to learn more about interactive tables.';\n",
              "          element.innerHTML = '';\n",
              "          dataTable['output_type'] = 'display_data';\n",
              "          await google.colab.output.renderOutput(dataTable, element);\n",
              "          const docLink = document.createElement('div');\n",
              "          docLink.innerHTML = docLinkHtml;\n",
              "          element.appendChild(docLink);\n",
              "        }\n",
              "      </script>\n",
              "    </div>\n",
              "  </div>\n",
              "  "
            ]
          },
          "metadata": {},
          "execution_count": 6
        }
      ]
    },
    {
      "cell_type": "markdown",
      "source": [
        "Correlations between the top features and the toxicity were rather limited. Though suboptimal, this is not unexpected; the single most correlated features in other hERG toxicity studies rarely exceeded correlations of 0.2, even when using thousands of features (see image below (Lee, Yu, Kazmi *et al.*,2019)).\n",
        "\n",
        "![top20.png](data:image/png;base64,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)\n",
        "\n",
        "\n",
        "Due to excessive multicollinearity, an additional 33 features were removed from the final dataset."
      ],
      "metadata": {
        "id": "E65FmHKngi_E"
      }
    },
    {
      "cell_type": "code",
      "source": [
        "def calculate_VIFs(df):\n",
        "  '''\n",
        "  Calculates variance inflation factors for all features. Assumes constant is already added.\n",
        "  '''\n",
        "  return pd.Series([variance_inflation_factor(X.values, i) for i in range(X.shape[1])], index=X.columns).sort_values()\n",
        "\n",
        "# Create copy of features with added constant for VIF calculation\n",
        "X = add_constant(features_df)\n",
        "\n",
        "# Calculate starting VIF for all features\n",
        "vif_start = calculate_VIFs(X)\n",
        "\n",
        "# Remove features with infinite VIF\n",
        "for feature,vif in vif_start.items():\n",
        "  if str(vif) == 'inf':\n",
        "    del X[feature]\n",
        "\n",
        "# Iteratively filter until 10 features remain \n",
        "while len(X.columns) > 10:\n",
        "\n",
        "  # Get VIFs of current dataframe\n",
        "  vifs = calculate_VIFs(X)\n",
        "\n",
        "  # Remove feature with highest VIF\n",
        "  del X[vifs.index[-1]]\n"
      ],
      "metadata": {
        "id": "27ac5xMDgppg"
      },
      "execution_count": null,
      "outputs": []
    },
    {
      "cell_type": "markdown",
      "source": [
        "The final features were listed with their respective correlation coefficients."
      ],
      "metadata": {
        "id": "KJgJ0ALClW3m"
      }
    },
    {
      "cell_type": "code",
      "source": [
        "correlations_df.loc[correlations_df['Feature'].isin(list(X.columns))]"
      ],
      "metadata": {
        "colab": {
          "base_uri": "https://localhost:8080/",
          "height": 363
        },
        "id": "triVZzd8kx5u",
        "outputId": "3fda57fa-4e5e-4a35-eb4e-44eabd567a44"
      },
      "execution_count": 8,
      "outputs": [
        {
          "output_type": "execute_result",
          "data": {
            "text/plain": [
              "                                Feature  Correlation to Y\n",
              "9                             CalcChi4v          0.095881\n",
              "11                     CalcFractionCSP3          0.059368\n",
              "20                    CalcNumAmideBonds          0.035420\n",
              "24             CalcNumAtomStereoCenters          0.003422\n",
              "26               CalcNumBridgeheadAtoms          0.009544\n",
              "27                           CalcNumHBA          0.027237\n",
              "33                   CalcNumLipinskiHBD          0.060668\n",
              "35                CalcNumRotatableBonds          0.090021\n",
              "39                    CalcNumSpiroAtoms          0.004632\n",
              "40  CalcNumUnspecifiedAtomStereoCenters          0.002101"
            ],
            "text/html": [
              "\n",
              "  <div id=\"df-19290bfd-ce34-446d-9fac-90f9f3c30aef\">\n",
              "    <div class=\"colab-df-container\">\n",
              "      <div>\n",
              "<style scoped>\n",
              "    .dataframe tbody tr th:only-of-type {\n",
              "        vertical-align: middle;\n",
              "    }\n",
              "\n",
              "    .dataframe tbody tr th {\n",
              "        vertical-align: top;\n",
              "    }\n",
              "\n",
              "    .dataframe thead th {\n",
              "        text-align: right;\n",
              "    }\n",
              "</style>\n",
              "<table border=\"1\" class=\"dataframe\">\n",
              "  <thead>\n",
              "    <tr style=\"text-align: right;\">\n",
              "      <th></th>\n",
              "      <th>Feature</th>\n",
              "      <th>Correlation to Y</th>\n",
              "    </tr>\n",
              "  </thead>\n",
              "  <tbody>\n",
              "    <tr>\n",
              "      <th>9</th>\n",
              "      <td>CalcChi4v</td>\n",
              "      <td>0.095881</td>\n",
              "    </tr>\n",
              "    <tr>\n",
              "      <th>11</th>\n",
              "      <td>CalcFractionCSP3</td>\n",
              "      <td>0.059368</td>\n",
              "    </tr>\n",
              "    <tr>\n",
              "      <th>20</th>\n",
              "      <td>CalcNumAmideBonds</td>\n",
              "      <td>0.035420</td>\n",
              "    </tr>\n",
              "    <tr>\n",
              "      <th>24</th>\n",
              "      <td>CalcNumAtomStereoCenters</td>\n",
              "      <td>0.003422</td>\n",
              "    </tr>\n",
              "    <tr>\n",
              "      <th>26</th>\n",
              "      <td>CalcNumBridgeheadAtoms</td>\n",
              "      <td>0.009544</td>\n",
              "    </tr>\n",
              "    <tr>\n",
              "      <th>27</th>\n",
              "      <td>CalcNumHBA</td>\n",
              "      <td>0.027237</td>\n",
              "    </tr>\n",
              "    <tr>\n",
              "      <th>33</th>\n",
              "      <td>CalcNumLipinskiHBD</td>\n",
              "      <td>0.060668</td>\n",
              "    </tr>\n",
              "    <tr>\n",
              "      <th>35</th>\n",
              "      <td>CalcNumRotatableBonds</td>\n",
              "      <td>0.090021</td>\n",
              "    </tr>\n",
              "    <tr>\n",
              "      <th>39</th>\n",
              "      <td>CalcNumSpiroAtoms</td>\n",
              "      <td>0.004632</td>\n",
              "    </tr>\n",
              "    <tr>\n",
              "      <th>40</th>\n",
              "      <td>CalcNumUnspecifiedAtomStereoCenters</td>\n",
              "      <td>0.002101</td>\n",
              "    </tr>\n",
              "  </tbody>\n",
              "</table>\n",
              "</div>\n",
              "      <button class=\"colab-df-convert\" onclick=\"convertToInteractive('df-19290bfd-ce34-446d-9fac-90f9f3c30aef')\"\n",
              "              title=\"Convert this dataframe to an interactive table.\"\n",
              "              style=\"display:none;\">\n",
              "        \n",
              "  <svg xmlns=\"http://www.w3.org/2000/svg\" height=\"24px\"viewBox=\"0 0 24 24\"\n",
              "       width=\"24px\">\n",
              "    <path d=\"M0 0h24v24H0V0z\" fill=\"none\"/>\n",
              "    <path d=\"M18.56 5.44l.94 2.06.94-2.06 2.06-.94-2.06-.94-.94-2.06-.94 2.06-2.06.94zm-11 1L8.5 8.5l.94-2.06 2.06-.94-2.06-.94L8.5 2.5l-.94 2.06-2.06.94zm10 10l.94 2.06.94-2.06 2.06-.94-2.06-.94-.94-2.06-.94 2.06-2.06.94z\"/><path d=\"M17.41 7.96l-1.37-1.37c-.4-.4-.92-.59-1.43-.59-.52 0-1.04.2-1.43.59L10.3 9.45l-7.72 7.72c-.78.78-.78 2.05 0 2.83L4 21.41c.39.39.9.59 1.41.59.51 0 1.02-.2 1.41-.59l7.78-7.78 2.81-2.81c.8-.78.8-2.07 0-2.86zM5.41 20L4 18.59l7.72-7.72 1.47 1.35L5.41 20z\"/>\n",
              "  </svg>\n",
              "      </button>\n",
              "      \n",
              "  <style>\n",
              "    .colab-df-container {\n",
              "      display:flex;\n",
              "      flex-wrap:wrap;\n",
              "      gap: 12px;\n",
              "    }\n",
              "\n",
              "    .colab-df-convert {\n",
              "      background-color: #E8F0FE;\n",
              "      border: none;\n",
              "      border-radius: 50%;\n",
              "      cursor: pointer;\n",
              "      display: none;\n",
              "      fill: #1967D2;\n",
              "      height: 32px;\n",
              "      padding: 0 0 0 0;\n",
              "      width: 32px;\n",
              "    }\n",
              "\n",
              "    .colab-df-convert:hover {\n",
              "      background-color: #E2EBFA;\n",
              "      box-shadow: 0px 1px 2px rgba(60, 64, 67, 0.3), 0px 1px 3px 1px rgba(60, 64, 67, 0.15);\n",
              "      fill: #174EA6;\n",
              "    }\n",
              "\n",
              "    [theme=dark] .colab-df-convert {\n",
              "      background-color: #3B4455;\n",
              "      fill: #D2E3FC;\n",
              "    }\n",
              "\n",
              "    [theme=dark] .colab-df-convert:hover {\n",
              "      background-color: #434B5C;\n",
              "      box-shadow: 0px 1px 3px 1px rgba(0, 0, 0, 0.15);\n",
              "      filter: drop-shadow(0px 1px 2px rgba(0, 0, 0, 0.3));\n",
              "      fill: #FFFFFF;\n",
              "    }\n",
              "  </style>\n",
              "\n",
              "      <script>\n",
              "        const buttonEl =\n",
              "          document.querySelector('#df-19290bfd-ce34-446d-9fac-90f9f3c30aef button.colab-df-convert');\n",
              "        buttonEl.style.display =\n",
              "          google.colab.kernel.accessAllowed ? 'block' : 'none';\n",
              "\n",
              "        async function convertToInteractive(key) {\n",
              "          const element = document.querySelector('#df-19290bfd-ce34-446d-9fac-90f9f3c30aef');\n",
              "          const dataTable =\n",
              "            await google.colab.kernel.invokeFunction('convertToInteractive',\n",
              "                                                     [key], {});\n",
              "          if (!dataTable) return;\n",
              "\n",
              "          const docLinkHtml = 'Like what you see? Visit the ' +\n",
              "            '<a target=\"_blank\" href=https://colab.research.google.com/notebooks/data_table.ipynb>data table notebook</a>'\n",
              "            + ' to learn more about interactive tables.';\n",
              "          element.innerHTML = '';\n",
              "          dataTable['output_type'] = 'display_data';\n",
              "          await google.colab.output.renderOutput(dataTable, element);\n",
              "          const docLink = document.createElement('div');\n",
              "          docLink.innerHTML = docLinkHtml;\n",
              "          element.appendChild(docLink);\n",
              "        }\n",
              "      </script>\n",
              "    </div>\n",
              "  </div>\n",
              "  "
            ]
          },
          "metadata": {},
          "execution_count": 8
        }
      ]
    },
    {
      "cell_type": "markdown",
      "source": [
        "We traded off high dimensional data with extreme multicollinearity for a smaller featureset with seemingly low predictive power. Though not optimal, we opted to use this data to train our models, as Pearson correlation only captures linear relationships. Nevertheless, evaluating models trained on this data later showed it to be insufficiently suitable for robust prediction.\n"
      ],
      "metadata": {
        "id": "4H5zKUMRmTyU"
      }
    },
    {
      "cell_type": "markdown",
      "source": [
        "## Data exploration\n",
        "\n"
      ],
      "metadata": {
        "id": "MSZMwAUMrEyb"
      }
    },
    {
      "cell_type": "code",
      "source": [
        "# Variance plot\n",
        "X.plot.box(title = 'Feature variance',\n",
        "             xlabel = 'no',\n",
        "            legend = False)"
      ],
      "metadata": {
        "colab": {
          "base_uri": "https://localhost:8080/",
          "height": 298
        },
        "id": "ssrkLfQhrmaH",
        "outputId": "ea883ffd-0232-4037-d4ea-76c837db8dcf"
      },
      "execution_count": 9,
      "outputs": [
        {
          "output_type": "execute_result",
          "data": {
            "text/plain": [
              "<matplotlib.axes._subplots.AxesSubplot at 0x7f95d0638430>"
            ]
          },
          "metadata": {},
          "execution_count": 9
        },
        {
          "output_type": "display_data",
          "data": {
            "text/plain": [
              "<Figure size 432x288 with 1 Axes>"
            ],
            "image/png": "[encoded data removed]"
          },
          "metadata": {
            "needs_background": "light"
          }
        }
      ]
    },
    {
      "cell_type": "markdown",
      "source": [
        "Feature scaling was performed due to large differences in mean and variation between different features."
      ],
      "metadata": {
        "id": "1kUVs7ijrsrm"
      }
    },
    {
      "cell_type": "code",
      "source": [
        "# Scale features\n",
        "X = scale(X)\n",
        "pd.DataFrame(X).plot.box(title = 'Feature variance',\n",
        "             xlabel = 'no',\n",
        "            legend = False)"
      ],
      "metadata": {
        "colab": {
          "base_uri": "https://localhost:8080/",
          "height": 298
        },
        "id": "9HihVzAcroaL",
        "outputId": "8de055ac-99d8-4400-af6f-0f0ef20dba87"
      },
      "execution_count": 10,
      "outputs": [
        {
          "output_type": "execute_result",
          "data": {
            "text/plain": [
              "<matplotlib.axes._subplots.AxesSubplot at 0x7f95d0683790>"
            ]
          },
          "metadata": {},
          "execution_count": 10
        },
        {
          "output_type": "display_data",
          "data": {
            "text/plain": [
              "<Figure size 432x288 with 1 Axes>"
            ],
            "image/png": "[encoded data removed]"
          },
          "metadata": {
            "needs_background": "light"
          }
        }
      ]
    },
    {
      "cell_type": "markdown",
      "source": [
        "Though outliers are still present, the interquartile ranges overlap much better after feature scaling.\n",
        "\n",
        "Class ratios were calculated to assess data imbalance."
      ],
      "metadata": {
        "id": "oORAwCmOsM4x"
      }
    },
    {
      "cell_type": "code",
      "source": [
        "# Dependent variable\n",
        "y = smiles_data['Y'].values\n",
        "\n",
        "# Extract class ratio\n",
        "ones, zeroes = list(y).count(1), list(y).count(0)\n",
        "tot = ones + zeroes\n",
        "ratio =  round(zeroes/ones)\n",
        "\n",
        "# Output\n",
        "print(f'Class distribution:\\n0: {(zeroes/tot * 100):.3f} %\\n1: {(ones/tot * 100):.3f} %\\n')\n",
        "print(f'Class ratio:\\n{ratio}:1\\n')"
      ],
      "metadata": {
        "colab": {
          "base_uri": "https://localhost:8080/"
        },
        "id": "cl7yRWzJsrBk",
        "outputId": "324feab3-94af-4378-b0df-b30b44ef3d91"
      },
      "execution_count": 11,
      "outputs": [
        {
          "output_type": "stream",
          "name": "stdout",
          "text": [
            "Class distribution:\n",
            "0: 95.556 %\n",
            "1: 4.444 %\n",
            "\n",
            "Class ratio:\n",
            "22:1\n",
            "\n"
          ]
        }
      ]
    },
    {
      "cell_type": "markdown",
      "source": [
        "We noted a high degree of imbalance, which is not surpising given the nature of the data, as only a small minority of possible molecules will bind to a specific receptor. To approach this problem, we tried several techniques to minimize the impact of this class imbalance, which we will now describe briefly in the order they were tried.\n",
        "\n",
        "\n",
        "1.   **No modifications**\n",
        "\n",
        "Models were trained and evaluated using the unmodified dataset. As expected, performance was very bad across all models, even when applying stratification to ensure even class ratios between training and test sets.\n",
        "\n",
        "2.   **Undersampling** \n",
        "\n",
        "Undersampling appeared to have very beneficial effects on the evaluation metrics of our own data. Sadly, these improved scores appeared to be mostly caused by overfitting, as the Kaggle test showed. Undersampling did greatly improve runtime due to smaller train/test sets. \n",
        "\n",
        "We continued to modify our approach to attempt minimizing data loss, as this method discarded roughly 90% of data (~ 180 000 molecules!). \n",
        "\n",
        "3. **Upweighting**\n",
        "\n",
        "Upweighting the minority class to balance class ratios is somewhat similar to undersampling the majority class, while also using the entire dataset at the cost of greater computational time. This technique does rely heavily on the quality of the minority class, which did not seem problematic given its size (~10 000).\n",
        "\n",
        "While the evaluations on Kaggle were roughly equal to those of undersampled models, they did not exhibit the same tendency to overestimate their own performance when evaluated on our own data. Nevertheless, performance remained very weak.\n",
        "\n",
        "\n",
        "4. **Stratified k-fold cross validation with upweighting**\n",
        "\n",
        "K-fold cross validation was combined with the aforementioned techniques in order to minimize model error. We partitioned the data into 4 folds, using stratification to ensure equal class ratios.\n",
        "\n",
        "Visually, this approach works as follows. \n",
        "\n",
        "![final_final.png](data:image/png;base64,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)\n",
        "\n",
        "**Notes:**\n",
        "\n",
        "1. Choice of K \n",
        "\n",
        "Increasing K comes at the cost of both fewer minority classes in each fold, and greater computational power. We decided to limit it to a value of 4, which also provides a reasonable 75/25 train-test split.\n",
        "\n",
        "2. Test set class ratio\n",
        "\n",
        "In the training set, the imbalances are corrected for (to a certain degree) by using weights.Though this is not the case in test sets, it need not be a problem; any realistic test set will be strongly imbalanced, as most molecules are not hERG binding. \n",
        "\n",
        "3. Weighting technicalities\n",
        "\n",
        "The approach described in the image was applied whenever possible. If not, a standard undersampling approach was be used (e.g. K-nn).\n"
      ],
      "metadata": {
        "id": "yaoVyiAIs4yU"
      }
    },
    {
      "cell_type": "markdown",
      "source": [
        "## Evaluation metrics\n",
        "\n",
        "Before discussing the models, we will briefly discuss the optimal way to evaluate their output."
      ],
      "metadata": {
        "id": "DXvnecyP17px"
      }
    },
    {
      "cell_type": "markdown",
      "source": [
        "### Main idea\n",
        "\n",
        "To explain the rationale behind our evaluation strategy, we pose the following question.\n",
        "\n",
        "\n",
        "> Pharmaceutical company X is screening compounds to use in drug development. Is it worse to classify a toxic molecule as non-toxic (FN), or a non-toxic molecule as toxic (FP)?\n",
        "\n",
        "\n",
        "We refer back to our introduction on drug development, more specifically the financial side. If a candidate drug proves to be toxic, all prior investments will have been for nothing, as it will never reach the market. On the other hand, if a molecule is wrongfully discarded (predicted to be toxic without actually being toxic), the pharmaceutical company does not lose money. The odds of a molecule leading to a marketable drug are extremely low in the first place, and a near infinite amount of other candidates are available.\n",
        "\n",
        "Thus, it is financially much more interesting to discard potentially non-toxic drugs early on (i.e. during computational screening) than it is to risk investing heavily in molecules that will prove toxic later. This essentially means attributing more value to recall than precision, though the tradeoff (f1-score) still remains important; models with high recall but very low precision are not informative."
      ],
      "metadata": {
        "id": "WsIy3ju92aR0"
      }
    },
    {
      "cell_type": "markdown",
      "source": [
        "### Accuracy \n",
        "Due to the [accuracy paradox](https://en.wikipedia.org/wiki/Accuracy_paradox), we did not use accuracy as a useful metric. We illustrate this with a spoof model."
      ],
      "metadata": {
        "id": "EtH7BlCl5CFe"
      }
    },
    {
      "cell_type": "code",
      "source": [
        "# Predict with spoof model\n",
        "def very_reliable_model(X_train, y_train, y_test_size):\n",
        "  '''\n",
        "  Performs (binary) classification by always predicting the most abundant class\n",
        "  '''\n",
        "  # Delete all features; our model doesn't need it\n",
        "  del X_train\n",
        "\n",
        "  # Extract majority class\n",
        "  majority = np.bincount(y_train).argmax()\n",
        "\n",
        "  # Always predict new observations to be the majority class\n",
        "  predictions = y_test_size *[majority]\n",
        "  \n",
        "  return predictions\n",
        "\n",
        "# Split the data (with stratification)\n",
        "X_train, X_test, y_train, y_test = train_test_split(X, y, test_size = 0.2, stratify = y)\n",
        "\n",
        "# Predict toxicity on test set\n",
        "preds = very_reliable_model(X_train, y_train, len(y_test))\n",
        "\n",
        "# Evaluate\n",
        "accuracy = metrics.accuracy_score(y_test, preds)\n",
        "print(f'Accuracy: {accuracy*100:.2f} %')"
      ],
      "metadata": {
        "colab": {
          "base_uri": "https://localhost:8080/"
        },
        "id": "qtJHpAws5BQd",
        "outputId": "0ac688f2-d119-4880-e6af-fd65d257411e"
      },
      "execution_count": 12,
      "outputs": [
        {
          "output_type": "stream",
          "name": "stdout",
          "text": [
            "Accuracy: 95.56 %\n"
          ]
        }
      ]
    },
    {
      "cell_type": "markdown",
      "source": [
        "Though completely non-informative, the model still returns a highly impressive 95% accuracy. We did not use accuracy to evaluate our models.\n",
        "\n",
        "### F1 score\n",
        "The f1 score is the harmonic mean between precision and recall. It takes both positives and negatives into account, making it a far more useful option for assessing model performance."
      ],
      "metadata": {
        "id": "7bVB9C_y6A9i"
      }
    },
    {
      "cell_type": "code",
      "source": [
        "# Illustrate on spoof model\n",
        "f1 = metrics.f1_score(y_test, preds)\n",
        "print(f'F1 score: {f1}') "
      ],
      "metadata": {
        "colab": {
          "base_uri": "https://localhost:8080/"
        },
        "id": "t3Np3wR66Ug3",
        "outputId": "fbfeeacd-9244-4455-d9af-79ceb9a2d6a6"
      },
      "execution_count": 13,
      "outputs": [
        {
          "output_type": "stream",
          "name": "stdout",
          "text": [
            "F1 score: 0.0\n"
          ]
        }
      ]
    },
    {
      "cell_type": "markdown",
      "source": [
        "### Matthews correlation coefficient\n",
        "\n",
        "We also evaluated our models using the Matthews correlation coefficient (MCC). It produces a value in range [-1, 1],  only generating a high absolute score if both a majority of positive and negative data instances were predicted correctly. \n",
        "\n",
        "It is applicable to binary classification, even outperforming the f1-score as an evaluation metric in specific situations of unbalanced datasets (Chico & Jurman, 2020). \n"
      ],
      "metadata": {
        "id": "cd052VuY6jkk"
      }
    },
    {
      "cell_type": "code",
      "source": [
        "# Illustrate on spoof model\n",
        "mcc = metrics.matthews_corrcoef(y_test, preds)\n",
        "print(f'MCC: {mcc}')"
      ],
      "metadata": {
        "colab": {
          "base_uri": "https://localhost:8080/"
        },
        "id": "To_Qnb6o7IOE",
        "outputId": "d79a5a95-f269-44f3-92b3-532646dfc393"
      },
      "execution_count": 14,
      "outputs": [
        {
          "output_type": "stream",
          "name": "stdout",
          "text": [
            "MCC: 0.0\n"
          ]
        }
      ]
    },
    {
      "cell_type": "markdown",
      "source": [
        "### Summary evaluation function\n"
      ],
      "metadata": {
        "id": "12cOxiYh7NsM"
      }
    },
    {
      "cell_type": "code",
      "source": [
        "def evaluate_model(y_true, y_pred):\n",
        "\n",
        "  # F1\n",
        "  f1 = metrics.f1_score(y_true, y_pred)\n",
        "  \n",
        "  # MCC\n",
        "  mcc = metrics.matthews_corrcoef(y_true, y_pred)\n",
        "\n",
        "  # Precision\n",
        "  prec = metrics.precision_score(y_true, y_pred)\n",
        "\n",
        "  # Recall\n",
        "  rec =  metrics.recall_score(y_true, y_pred)\n",
        "\n",
        "  # Confusion matrix\n",
        "  mat = metrics.confusion_matrix(y_true, y_pred)\n",
        "\n",
        "  # Return required information\n",
        "  return {'f1': f1, 'MCC': mcc, 'recall': rec, 'precision': prec, 'conf_mat':mat}"
      ],
      "metadata": {
        "id": "HgxqEbN07SkJ"
      },
      "execution_count": 15,
      "outputs": []
    },
    {
      "cell_type": "markdown",
      "source": [
        "## Machine learning models\n"
      ],
      "metadata": {
        "id": "ntnACcpj7Z_z"
      }
    },
    {
      "cell_type": "markdown",
      "source": [
        "### K-nearest neighbours\n",
        "\n",
        "Class imbalance can strongly influence K-nn models, as classification happens 'by majority vote'. Using weights is less intuitive than with other approaches like logistic regression. Instead, we used a classic undersampling method with 4-fold crossvalidation.\n"
      ],
      "metadata": {
        "id": "xijwLCjQ7u1-"
      }
    },
    {
      "cell_type": "code",
      "source": [
        "### Undersampling\n",
        "\n",
        "# Get indices of equal amount of zeroes and ones\n",
        "i_1 = np.where(y == 1)[0]\n",
        "i_0 = np.where(y == 0)[0][:len(i_1)]\n",
        "\n",
        "# Combine\n",
        "usmpl_i = np.concatenate((i_1, i_0))\n",
        "\n",
        "# Get y and features at these indices\n",
        "X_usmpl, y_usmpl = X[usmpl_i], y[usmpl_i] \n",
        "\n",
        "# Check balance\n",
        "print(f'1: {np.count_nonzero(y_usmpl == 1)}\\n0: {np.count_nonzero(y_usmpl == 1)}')"
      ],
      "metadata": {
        "colab": {
          "base_uri": "https://localhost:8080/"
        },
        "id": "oe8jQ-VX72tr",
        "outputId": "c58557b2-7b32-48d9-e730-265e6533e955"
      },
      "execution_count": 16,
      "outputs": [
        {
          "output_type": "stream",
          "name": "stdout",
          "text": [
            "1: 9547\n",
            "0: 9547\n"
          ]
        }
      ]
    },
    {
      "cell_type": "code",
      "source": [
        "# Keep track of scores of each fold (k = 4)\n",
        "fold_scores_df = pd.DataFrame(columns = ['k', 'fold', 'f1', 'mcc', 'recall', 'precision'])\n",
        "\n",
        "# Initialize folds\n",
        "folds = StratifiedKFold(n_splits=4, shuffle=True)\n",
        "\n",
        "# Fold tracker\n",
        "fold = 1\n",
        "for train_index, test_index in folds.split(X_usmpl, y_usmpl):\n",
        "\n",
        "  # Try for 1 - 10 neighbours\n",
        "  for k in range(1,11):\n",
        "\n",
        "      # Get X_train, X_test, y_train, y_test \n",
        "      X_train, X_test, y_train, y_test = X_usmpl[train_index], X_usmpl[test_index], y_usmpl[train_index], y_usmpl[test_index]\n",
        "\n",
        "      # Initialize KNN\n",
        "      knn = neighbors.KNeighborsClassifier(n_neighbors=k)\n",
        "\n",
        "      # Fit to training data\n",
        "      knn.fit(X_train, y_train)\n",
        "      \n",
        "      # Predict\n",
        "      pred = knn.predict(X_test)\n",
        "\n",
        "      # Evaluate\n",
        "      result = evaluate_model(y_test, pred)\n",
        "\n",
        "      # Add results to df\n",
        "      add = [k, fold, result['f1'], result['MCC'], result['recall'], result['precision']]\n",
        "      fold_scores_df.loc[len(fold_scores_df)] = add\n",
        "\n",
        "  # Increment fold tracker\n",
        "  fold += 1\n",
        "\n",
        "# Get mean performance across folds\n",
        "mean_scores_df = fold_scores_df.groupby('k')['f1', \"mcc\", 'recall', \"precision\"].mean()\n",
        "\n",
        "# Plot\n",
        "mean_scores_df.plot(title = 'K-nn classification\\n(4-fold stratified cross validation)',\n",
        "                    xlabel = 'K',\n",
        "                    xticks = [i for i in range(1,11)],\n",
        "                    ylabel = 'Score')"
      ],
      "metadata": {
        "colab": {
          "base_uri": "https://localhost:8080/",
          "height": 362
        },
        "id": "uQ9OB5xT8Eej",
        "outputId": "ca7b82f5-3131-4b2c-d11b-02c3f8b00aa4"
      },
      "execution_count": 17,
      "outputs": [
        {
          "output_type": "stream",
          "name": "stderr",
          "text": [
            "<ipython-input-17-69f1cedd53f9>:37: FutureWarning: Indexing with multiple keys (implicitly converted to a tuple of keys) will be deprecated, use a list instead.\n",
            "  mean_scores_df = fold_scores_df.groupby('k')['f1', \"mcc\", 'recall', \"precision\"].mean()\n"
          ]
        },
        {
          "output_type": "execute_result",
          "data": {
            "text/plain": [
              "<matplotlib.axes._subplots.AxesSubplot at 0x7f95d05dc700>"
            ]
          },
          "metadata": {},
          "execution_count": 17
        },
        {
          "output_type": "display_data",
          "data": {
            "text/plain": [
              "<Figure size 432x288 with 1 Axes>"
            ],
            "image/png": "[encoded data removed]"
          },
          "metadata": {
            "needs_background": "light"
          }
        }
      ]
    },
    {
      "cell_type": "markdown",
      "source": [
        "Performance seemed unreasonably good for such a simple model. The choice of k also seemed to have negligible effects, which is usually not the case in K-nearest neighbour classification.\n",
        "\n",
        "Suspecting possible overfitting, we predicted the unknown test set and submitted the result on Kaggle. An f1 score of 0.15 confirmed our suspicions. This result was the main reasoning behind our further preference of upweighting the minority class, instead of undersampling the majority class. \n",
        "\n",
        "\n"
      ],
      "metadata": {
        "id": "0mDKOQFL9Is5"
      }
    },
    {
      "cell_type": "markdown",
      "source": [
        "### Logistic regression\n",
        "\n",
        "Rather than immediately balancing by class ratio, we opted to perform logistic regression using a range of different class weights."
      ],
      "metadata": {
        "id": "6l5gN0fD-w4K"
      }
    },
    {
      "cell_type": "code",
      "source": [
        "# Define class weight list\n",
        "weight_list = [{0:1, 1:r} for r in range(1,ratio+1)]"
      ],
      "metadata": {
        "id": "HIxDiJgjAW_4"
      },
      "execution_count": 18,
      "outputs": []
    },
    {
      "cell_type": "code",
      "source": [
        "# Keep track of scores of each fold (k = 4)\n",
        "logreg_scores_df = pd.DataFrame(columns = ['fold', 'weight', 'f1', 'mcc', 'recall', 'precision'])\n",
        "\n",
        "# Initialize folds \n",
        "folds = StratifiedKFold(n_splits=4, shuffle=True)\n",
        "\n",
        "# Fold tracker\n",
        "fold = 1\n",
        "for train_index, test_index in folds.split(X, y):\n",
        "\n",
        "    # Try different weights\n",
        "    for w in weight_list:\n",
        "\n",
        "        # Get X_train, X_test, y_train, y_test \n",
        "        X_train, X_test, y_train, y_test = X[train_index], X[test_index], y[train_index], y[test_index]\n",
        "\n",
        "        # Initialize KNN\n",
        "        logreg = LogisticRegression(random_state=13, class_weight=w)\n",
        "\n",
        "        # Fit to training data\n",
        "        logreg.fit(X_train, y_train)\n",
        "          \n",
        "        # Predict\n",
        "        pred = logreg.predict(X_test)\n",
        "\n",
        "        # Evaluate\n",
        "        result = evaluate_model(y_test, pred)\n",
        "\n",
        "        # Add results to df\n",
        "        add = [fold, w[1], result['f1'], result['MCC'], result['recall'], result['precision']]\n",
        "        logreg_scores_df.loc[len(logreg_scores_df)] = add\n",
        "\n",
        "    # Increment fold tracker\n",
        "    fold += 1\n",
        "\n",
        "# Get mean performance across folds\n",
        "mean_scores_logreg_df = logreg_scores_df.groupby('weight')['f1', \"mcc\", 'recall', \"precision\"].mean()\n",
        "\n",
        "# Plot\n",
        "mean_scores_logreg_df.plot(title = 'Logistic regression classification\\n(4-fold stratified cross validation)',\n",
        "                    xlabel = 'Positive class weight',\n",
        "                    xticks = [i for i in range(1,23)],\n",
        "                    ylabel = 'Score')"
      ],
      "metadata": {
        "colab": {
          "base_uri": "https://localhost:8080/",
          "height": 362
        },
        "id": "U0IZ4CK-Bejj",
        "outputId": "203359e2-e69e-41d8-cd7d-b907d6595a06"
      },
      "execution_count": 19,
      "outputs": [
        {
          "output_type": "stream",
          "name": "stderr",
          "text": [
            "<ipython-input-19-2748a2f97063>:37: FutureWarning: Indexing with multiple keys (implicitly converted to a tuple of keys) will be deprecated, use a list instead.\n",
            "  mean_scores_logreg_df = logreg_scores_df.groupby('weight')['f1', \"mcc\", 'recall', \"precision\"].mean()\n"
          ]
        },
        {
          "output_type": "execute_result",
          "data": {
            "text/plain": [
              "<matplotlib.axes._subplots.AxesSubplot at 0x7f95d094c910>"
            ]
          },
          "metadata": {},
          "execution_count": 19
        },
        {
          "output_type": "display_data",
          "data": {
            "text/plain": [
              "<Figure size 432x288 with 1 Axes>"
            ],
            "image/png": "[encoded data removed]"
          },
          "metadata": {
            "needs_background": "light"
          }
        }
      ]
    },
    {
      "cell_type": "markdown",
      "source": [
        "Overall performance was again quite poor, though very similar to the Kaggle evaluations. Recall showed a strong positive correlation to weight, with precision understandably showing the inverse. \n",
        "\n",
        "We remarked that in the context of this research, recall is arguably more important than precision. Even so, at extremely low precision values, the amount of false positives becomes problematic; if nearly everything is predicted to be toxic even though only a small minority is, there is no point in performing the analysis.\n",
        "\n"
      ],
      "metadata": {
        "id": "PpWHVdkaB8uB"
      }
    },
    {
      "cell_type": "markdown",
      "source": [
        "### Decision trees\n",
        "\n",
        "The same approach of upweighting and crossvalidation was applied to decision tree classification."
      ],
      "metadata": {
        "id": "EMwr0yHBEHn7"
      }
    },
    {
      "cell_type": "code",
      "source": [
        "# Store in df\n",
        "trees_scores_df = pd.DataFrame(columns=['weight', 'f1', 'mcc', 'recall', 'precision'])\n",
        "\n",
        "# Initialize folds (technically already done, but we reshuffle)\n",
        "folds = StratifiedKFold(n_splits=4, shuffle=True)\n",
        "\n",
        "# Fold tracker\n",
        "fold = 1\n",
        "for train_index, test_index in folds.split(X, y):\n",
        "    # Train & evaluate\n",
        "    for w in weight_list:\n",
        "\n",
        "      # Get X_train, X_test, y_train, y_test \n",
        "      X_train, X_test, y_train, y_test = X[train_index], X[test_index], y[train_index], y[test_index]\n",
        "\n",
        "      # Initialize model\n",
        "      trees_model = DecisionTreeClassifier(class_weight=w)\n",
        "\n",
        "      # Fit\n",
        "      trees_model.fit(X_train, y_train)\n",
        "\n",
        "      # Predict\n",
        "      pred = trees_model.predict(X_test)\n",
        "\n",
        "      # Evaluate\n",
        "      result = evaluate_model(y_test, pred)\n",
        "\n",
        "      # Add results to df\n",
        "      add = [w[1], result['f1'], result['MCC'], result['recall'], result['precision']]\n",
        "      trees_scores_df.loc[len(trees_scores_df)] = add\n",
        "\n",
        "\n",
        "    # Increment fold tracker\n",
        "    fold += 1\n",
        "\n",
        "# Get mean performance across folds\n",
        "trees_mean_scores_df = trees_scores_df.groupby('weight')['f1', \"mcc\", 'recall', \"precision\"].mean()\n",
        "\n",
        "# Plot\n",
        "trees_mean_scores_df.plot(title = 'Decision tree classification\\n(4-fold stratified cross validation)',\n",
        "                    xlabel = 'Positive class weight',\n",
        "                    xticks = [i for i in range(0,ratio, 5)],\n",
        "                    ylabel = 'Score')\n"
      ],
      "metadata": {
        "colab": {
          "base_uri": "https://localhost:8080/",
          "height": 362
        },
        "id": "hH27XHIPEQ4h",
        "outputId": "b81caaae-9209-479c-d369-fd2bd0828ea1"
      },
      "execution_count": 20,
      "outputs": [
        {
          "output_type": "stream",
          "name": "stderr",
          "text": [
            "<ipython-input-20-def507e8f6f3>:37: FutureWarning: Indexing with multiple keys (implicitly converted to a tuple of keys) will be deprecated, use a list instead.\n",
            "  trees_mean_scores_df = trees_scores_df.groupby('weight')['f1', \"mcc\", 'recall', \"precision\"].mean()\n"
          ]
        },
        {
          "output_type": "execute_result",
          "data": {
            "text/plain": [
              "<matplotlib.axes._subplots.AxesSubplot at 0x7f95d04ad730>"
            ]
          },
          "metadata": {},
          "execution_count": 20
        },
        {
          "output_type": "display_data",
          "data": {
            "text/plain": [
              "<Figure size 432x288 with 1 Axes>"
            ],
            "image/png": "[encoded data removed]"
          },
          "metadata": {
            "needs_background": "light"
          }
        }
      ]
    },
    {
      "cell_type": "markdown",
      "source": [
        "Similar to logistic regression, performance was weak but the evaluation was representative for effectiveness on unknown data. We also attempted random forest classification, which produced nearly identical results. Varying the number of trees [100, .. , 500] had no effect on performance."
      ],
      "metadata": {
        "id": "VXcaiboWFLCY"
      }
    },
    {
      "cell_type": "markdown",
      "source": [
        "### Support vector machines\n",
        "\n",
        "Support vector classification is commonly used in drug discovery (Rodríguez-Pérez & Bajorath, 2022), but it was also the most computationally expensive approach we tried. To gauge runtime, we performed classification on the undersampled data."
      ],
      "metadata": {
        "id": "ttO0ppLYHDeh"
      }
    },
    {
      "cell_type": "code",
      "source": [
        "# Keep track of scores of each fold (k = 5)\n",
        "svc_scores_df = pd.DataFrame(columns = ['fold', 'f1', 'mcc', 'recall', 'precision'])\n",
        "\n",
        "# Initialize folds (technically already done, but we reshuffle)\n",
        "folds = StratifiedKFold(n_splits=4, shuffle=True)\n",
        "\n",
        "# Fold tracker\n",
        "fold = 1\n",
        "for train_index, test_index in folds.split(X_usmpl, y_usmpl):\n",
        "\n",
        "    # Get X_train, X_test, y_train, y_test \n",
        "    X_train, X_test, y_train, y_test = X_usmpl[train_index], X_usmpl[test_index], y_usmpl[train_index], y_usmpl[test_index]\n",
        "\n",
        "    # Instantiate the Support Vector Classifier (SVC)\n",
        "    svc = SVC(C=1.0, \n",
        "              random_state=1,\n",
        "              kernel='linear')\n",
        "\n",
        "    # Fit to training data\n",
        "    svc.fit(X_train, y_train)\n",
        "          \n",
        "    # Predict\n",
        "    pred = svc.predict(X_test)\n",
        "\n",
        "    # Evaluate\n",
        "    result = evaluate_model(y_test, pred)\n",
        "\n",
        "    # Add results to df\n",
        "    add = [fold, result['f1'], result['MCC'], result['recall'], result['precision']]\n",
        "    svc_scores_df.loc[len(svc_scores_df)] = add\n",
        "\n",
        "    # Increment fold tracker\n",
        "    fold += 1\n",
        "\n",
        "# Show results (No hyperparameters to plot)\n",
        "svc_scores_df"
      ],
      "metadata": {
        "colab": {
          "base_uri": "https://localhost:8080/",
          "height": 175
        },
        "id": "T71eWZiTHGTH",
        "outputId": "a01396d7-617c-4aa7-ffcd-8c43874cdc93"
      },
      "execution_count": 21,
      "outputs": [
        {
          "output_type": "execute_result",
          "data": {
            "text/plain": [
              "   fold        f1       mcc    recall  precision\n",
              "0   1.0  0.651037  0.295405  0.657310   0.644883\n",
              "1   2.0  0.647524  0.290349  0.651864   0.643241\n",
              "2   3.0  0.650447  0.295651  0.655216   0.645747\n",
              "3   4.0  0.653478  0.302770  0.657586   0.649421"
            ],
            "text/html": [
              "\n",
              "  <div id=\"df-07597bb8-0fe7-4b7f-a923-1ce478cdd5d3\">\n",
              "    <div class=\"colab-df-container\">\n",
              "      <div>\n",
              "<style scoped>\n",
              "    .dataframe tbody tr th:only-of-type {\n",
              "        vertical-align: middle;\n",
              "    }\n",
              "\n",
              "    .dataframe tbody tr th {\n",
              "        vertical-align: top;\n",
              "    }\n",
              "\n",
              "    .dataframe thead th {\n",
              "        text-align: right;\n",
              "    }\n",
              "</style>\n",
              "<table border=\"1\" class=\"dataframe\">\n",
              "  <thead>\n",
              "    <tr style=\"text-align: right;\">\n",
              "      <th></th>\n",
              "      <th>fold</th>\n",
              "      <th>f1</th>\n",
              "      <th>mcc</th>\n",
              "      <th>recall</th>\n",
              "      <th>precision</th>\n",
              "    </tr>\n",
              "  </thead>\n",
              "  <tbody>\n",
              "    <tr>\n",
              "      <th>0</th>\n",
              "      <td>1.0</td>\n",
              "      <td>0.651037</td>\n",
              "      <td>0.295405</td>\n",
              "      <td>0.657310</td>\n",
              "      <td>0.644883</td>\n",
              "    </tr>\n",
              "    <tr>\n",
              "      <th>1</th>\n",
              "      <td>2.0</td>\n",
              "      <td>0.647524</td>\n",
              "      <td>0.290349</td>\n",
              "      <td>0.651864</td>\n",
              "      <td>0.643241</td>\n",
              "    </tr>\n",
              "    <tr>\n",
              "      <th>2</th>\n",
              "      <td>3.0</td>\n",
              "      <td>0.650447</td>\n",
              "      <td>0.295651</td>\n",
              "      <td>0.655216</td>\n",
              "      <td>0.645747</td>\n",
              "    </tr>\n",
              "    <tr>\n",
              "      <th>3</th>\n",
              "      <td>4.0</td>\n",
              "      <td>0.653478</td>\n",
              "      <td>0.302770</td>\n",
              "      <td>0.657586</td>\n",
              "      <td>0.649421</td>\n",
              "    </tr>\n",
              "  </tbody>\n",
              "</table>\n",
              "</div>\n",
              "      <button class=\"colab-df-convert\" onclick=\"convertToInteractive('df-07597bb8-0fe7-4b7f-a923-1ce478cdd5d3')\"\n",
              "              title=\"Convert this dataframe to an interactive table.\"\n",
              "              style=\"display:none;\">\n",
              "        \n",
              "  <svg xmlns=\"http://www.w3.org/2000/svg\" height=\"24px\"viewBox=\"0 0 24 24\"\n",
              "       width=\"24px\">\n",
              "    <path d=\"M0 0h24v24H0V0z\" fill=\"none\"/>\n",
              "    <path d=\"M18.56 5.44l.94 2.06.94-2.06 2.06-.94-2.06-.94-.94-2.06-.94 2.06-2.06.94zm-11 1L8.5 8.5l.94-2.06 2.06-.94-2.06-.94L8.5 2.5l-.94 2.06-2.06.94zm10 10l.94 2.06.94-2.06 2.06-.94-2.06-.94-.94-2.06-.94 2.06-2.06.94z\"/><path d=\"M17.41 7.96l-1.37-1.37c-.4-.4-.92-.59-1.43-.59-.52 0-1.04.2-1.43.59L10.3 9.45l-7.72 7.72c-.78.78-.78 2.05 0 2.83L4 21.41c.39.39.9.59 1.41.59.51 0 1.02-.2 1.41-.59l7.78-7.78 2.81-2.81c.8-.78.8-2.07 0-2.86zM5.41 20L4 18.59l7.72-7.72 1.47 1.35L5.41 20z\"/>\n",
              "  </svg>\n",
              "      </button>\n",
              "      \n",
              "  <style>\n",
              "    .colab-df-container {\n",
              "      display:flex;\n",
              "      flex-wrap:wrap;\n",
              "      gap: 12px;\n",
              "    }\n",
              "\n",
              "    .colab-df-convert {\n",
              "      background-color: #E8F0FE;\n",
              "      border: none;\n",
              "      border-radius: 50%;\n",
              "      cursor: pointer;\n",
              "      display: none;\n",
              "      fill: #1967D2;\n",
              "      height: 32px;\n",
              "      padding: 0 0 0 0;\n",
              "      width: 32px;\n",
              "    }\n",
              "\n",
              "    .colab-df-convert:hover {\n",
              "      background-color: #E2EBFA;\n",
              "      box-shadow: 0px 1px 2px rgba(60, 64, 67, 0.3), 0px 1px 3px 1px rgba(60, 64, 67, 0.15);\n",
              "      fill: #174EA6;\n",
              "    }\n",
              "\n",
              "    [theme=dark] .colab-df-convert {\n",
              "      background-color: #3B4455;\n",
              "      fill: #D2E3FC;\n",
              "    }\n",
              "\n",
              "    [theme=dark] .colab-df-convert:hover {\n",
              "      background-color: #434B5C;\n",
              "      box-shadow: 0px 1px 3px 1px rgba(0, 0, 0, 0.15);\n",
              "      filter: drop-shadow(0px 1px 2px rgba(0, 0, 0, 0.3));\n",
              "      fill: #FFFFFF;\n",
              "    }\n",
              "  </style>\n",
              "\n",
              "      <script>\n",
              "        const buttonEl =\n",
              "          document.querySelector('#df-07597bb8-0fe7-4b7f-a923-1ce478cdd5d3 button.colab-df-convert');\n",
              "        buttonEl.style.display =\n",
              "          google.colab.kernel.accessAllowed ? 'block' : 'none';\n",
              "\n",
              "        async function convertToInteractive(key) {\n",
              "          const element = document.querySelector('#df-07597bb8-0fe7-4b7f-a923-1ce478cdd5d3');\n",
              "          const dataTable =\n",
              "            await google.colab.kernel.invokeFunction('convertToInteractive',\n",
              "                                                     [key], {});\n",
              "          if (!dataTable) return;\n",
              "\n",
              "          const docLinkHtml = 'Like what you see? Visit the ' +\n",
              "            '<a target=\"_blank\" href=https://colab.research.google.com/notebooks/data_table.ipynb>data table notebook</a>'\n",
              "            + ' to learn more about interactive tables.';\n",
              "          element.innerHTML = '';\n",
              "          dataTable['output_type'] = 'display_data';\n",
              "          await google.colab.output.renderOutput(dataTable, element);\n",
              "          const docLink = document.createElement('div');\n",
              "          docLink.innerHTML = docLinkHtml;\n",
              "          element.appendChild(docLink);\n",
              "        }\n",
              "      </script>\n",
              "    </div>\n",
              "  </div>\n",
              "  "
            ]
          },
          "metadata": {},
          "execution_count": 21
        }
      ]
    },
    {
      "cell_type": "markdown",
      "source": [
        "Similar to K-nearest neighbours, predictions based on undersampled data produced overly positive and unreliable results (Kaggle f1 = 0.15).\n",
        "\n",
        "Extreme runtimes prevented us from applying the same `SVC()` function to\n",
        "the entire dataset using predefined weights. `LinearSVC` proved more efficient but still failed to converge, even after increasing the maximum iterations 200% from baseline. It also enforces the use of a linear kernel, which is not optimal on a high-dimensional dataset with poor linear correlations to its classes."
      ],
      "metadata": {
        "id": "NpQdijIZIbw5"
      }
    },
    {
      "cell_type": "code",
      "source": [
        "# Redefine training & test data\n",
        "X_train, X_test, y_train, y_test = train_test_split(X,y)\n",
        "\n",
        "# Store in df\n",
        "linearsvc_scores_df = pd.DataFrame(columns=['weight', 'f1', 'mcc', 'recall', 'precision'])\n",
        "\n",
        "# Train & evaluate\n",
        "for w in weight_list:\n",
        "\n",
        "  # Initialize model\n",
        "  clf = LinearSVC(random_state=0, class_weight = w)\n",
        "\n",
        "  # Fit\n",
        "  clf.fit(X_train, y_train)\n",
        "\n",
        "  # Predict\n",
        "  pred = clf.predict(X_test)\n",
        "\n",
        "  # Evaluate\n",
        "  result = evaluate_model(y_test, pred)\n",
        "\n",
        "  # Add results to df\n",
        "  add = [w[1], result['f1'], result['MCC'], result['recall'], result['precision']]\n",
        "  linearsvc_scores_df.loc[len(linearsvc_scores_df)] = add"
      ],
      "metadata": {
        "id": "Zlba7i3SJhql"
      },
      "execution_count": null,
      "outputs": []
    },
    {
      "cell_type": "code",
      "source": [
        "# Plot\n",
        "linearsvc_scores_df.plot(x = 'weight', \n",
        "                         title = 'Linear support vector classification',\n",
        "                         xlabel = 'Positive class weight',\n",
        "                         xticks = [i for i in range(1,23)],\n",
        "                         ylabel = 'Score')"
      ],
      "metadata": {
        "colab": {
          "base_uri": "https://localhost:8080/",
          "height": 312
        },
        "id": "nEDD5PqIOZj6",
        "outputId": "cdf9123a-70e9-4d44-fc45-0232e0123988"
      },
      "execution_count": 23,
      "outputs": [
        {
          "output_type": "execute_result",
          "data": {
            "text/plain": [
              "<matplotlib.axes._subplots.AxesSubplot at 0x7f95d049c640>"
            ]
          },
          "metadata": {},
          "execution_count": 23
        },
        {
          "output_type": "display_data",
          "data": {
            "text/plain": [
              "<Figure size 432x288 with 1 Axes>"
            ],
            "image/png": "[encoded data removed]"
          },
          "metadata": {
            "needs_background": "light"
          }
        }
      ]
    },
    {
      "cell_type": "markdown",
      "source": [
        "## Discussion\n",
        "We tried a number of different models to predict the hERG toxicity of different drugs based on their molecular structure. All of our methods produced subpar results, with the best only outperforming random predictions by a slim margin.  In this discussion, we aim to provide possible explanations for these results. In addition to this, we will also make a number of suggestions intended to guide future research, as to avoid running into the same problems.\n",
        "\n",
        "\n",
        "### Feature engineering\n",
        "Molecular feature extraction from SMILES is commonly done in cheminformatics, resulting in several open source libraries being available. From a practical standpoint, using other chemical notation systems likely confers little benefit compared to SMILES, the notable exception being a notation system for which more efficient feature extraction libraries exist.\n",
        "\n",
        "We attempted to replicate the feature extraction approach used by researchers in cheminformatics; generating extremely high dimensional data. PaDEL-descriptor proved to be too computationally expensive for the given dataset, with calculated total runtime exceeding a month. We were forced to discard this approach, but want to stress that this was solely due to computational limitations; large (1000+) feature sets are highly valuable in complicated classification tasks, as evidenced by their ubiquitous use in recent publications.\n",
        "\n",
        "As a more pragmatic approach, we opted for a limited number of features (~ 50). Due to high degree of multicollinearity, we progressively trimmed this down to 10 features whose variance inflation factor did not exceed 10. Pearson correlation between these features and the binary outcome was very weak, often not even exceeding 5%.  We remarked that this did not apply to non-linear types of correlation; however, most of our approaches were still reliant on linear relations between a feature and the dependent variable.\n",
        "For any future researchers looking to tackle this problem, we strongly recommend either allocating a significant portion of effort in designing a memory efficient way to generate large feature sets, or to use more performant computers. \n",
        "\n",
        "### Modelling\n",
        "\n",
        "We opted to try several models seen throughout the course, all of which produced very subpar results. \n",
        "\n",
        "To deal with the strong class imbalance, we implemented undersampling and upweighting. Though their underlying ideas are similar, models trained on undersampled data (e.g. K-nn) strongly overrated their effectiveness on new data (f1 > 0.5), while their weighted counterparts provided more accurate (albeit bad) evaluations. Use of undersampling is well-documented, suggesting either data artifacts or poor application on our part.\n",
        "\n",
        "We only applied a small sample of available classification algorithms, due constraints in both time and resources. Regarding future research, we mostly turn our attention towards neural networks, as these are particularly well-equipped to deal with the high dimensional data required to perform accurate toxicity prediction.\n"
      ],
      "metadata": {
        "id": "I-Fj3L3nOcin"
      }
    },
    {
      "cell_type": "markdown",
      "source": [
        "## References\n",
        "\n",
        "* Paul, S., Mytelka, D., Dunwiddie,C. et al. How to improve R&D productivity: \n",
        "the pharmaceutical industry's grand challenge. Nat Rev Drug Discov 9, 203–214 (2010). https://doi.org/10.1038/nrd3078\n",
        "\n",
        "* Macalino, S.J.Y., Gosu, V., Hong, S. et al. Role of computer-aided drug design in modern drug discovery. Arch. Pharm. Res. 38, 1686–1701 (2015). https://doi.org/10.1007/s12272-015-0640-5\n",
        "\n",
        "* Amanda Garrido, Alban Lepailleur, Serge M. Mignani, Patrick Dallemagne, Christophe Rochais, hERG toxicity assessment: Useful guidelines for drug design, European Journal of Medicinal Chemistry, Volume 195, 2020, 112290,ISSN 0223-5234,https://doi.org/10.1016/j.ejmech.2020.112290.\n",
        "\n",
        "* Yap, C.W. (2011), PaDEL-descriptor: An open source software to calculate molecular descriptors and fingerprints. J. Comput. Chem., 32: 1466-1474. https://doi.org/10.1002/jcc.21707\n",
        "\n",
        "* Lee, HM., Yu, MS., Kazmi, S.R. et al. Computational determination of hERG-related cardiotoxicity of drug candidates. BMC Bioinformatics 20 (Suppl 10), 250 (2019). https://doi.org/10.1186/s12859-019-2814-5\n",
        "\n",
        "* Chicco, D., Jurman, G. The advantages of the Matthews correlation coefficient (MCC) over F1 score and accuracy in binary classification evaluation. BMC Genomics 21, 6 (2020). https://doi.org/10.1186/s12864-019-6413-7\n",
        "\n",
        "* Rodríguez-Pérez, R., Bajorath, J. Evolution of Support Vector Machine and Regression Modeling in Chemoinformatics and Drug Discovery. J Comput Aided Mol Des 36, 355–362 (2022). https://doi.org/10.1007/s10822-022-00442-9\n"
      ],
      "metadata": {
        "id": "3v2kTTkLE1WA"
      }
    }
  ]
}